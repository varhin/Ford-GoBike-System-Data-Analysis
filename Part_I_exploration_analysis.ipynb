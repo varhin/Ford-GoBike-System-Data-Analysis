{
 "cells": [
  {
   "cell_type": "markdown",
   "id": "16b595fc",
   "metadata": {},
   "source": [
    "# Part I - Ford GoBike System Data\n",
    "## by Vanessa Arhin\n",
    "\n",
    "### Introduction\n",
    "> This data set includes information about individual rides made in a bike-sharing system covering the greater San Francisco Bay area.\n",
    "\n",
    "## Preliminary Wrangling"
   ]
  },
  {
   "cell_type": "code",
   "execution_count": 1,
   "id": "4b1dad10",
   "metadata": {},
   "outputs": [],
   "source": [
    "# import all packages and set plots to be embedded inline\n",
    "import numpy as np\n",
    "import pandas as pd\n",
    "import matplotlib.pyplot as plt\n",
    "import seaborn as sb\n",
    "\n",
    "%matplotlib inline"
   ]
  },
  {
   "cell_type": "code",
   "execution_count": 2,
   "id": "6f8e718b",
   "metadata": {},
   "outputs": [
    {
     "data": {
      "text/html": [
       "<div>\n",
       "<style scoped>\n",
       "    .dataframe tbody tr th:only-of-type {\n",
       "        vertical-align: middle;\n",
       "    }\n",
       "\n",
       "    .dataframe tbody tr th {\n",
       "        vertical-align: top;\n",
       "    }\n",
       "\n",
       "    .dataframe thead th {\n",
       "        text-align: right;\n",
       "    }\n",
       "</style>\n",
       "<table border=\"1\" class=\"dataframe\">\n",
       "  <thead>\n",
       "    <tr style=\"text-align: right;\">\n",
       "      <th></th>\n",
       "      <th>duration_sec</th>\n",
       "      <th>start_time</th>\n",
       "      <th>end_time</th>\n",
       "      <th>start_station_id</th>\n",
       "      <th>start_station_name</th>\n",
       "      <th>start_station_latitude</th>\n",
       "      <th>start_station_longitude</th>\n",
       "      <th>end_station_id</th>\n",
       "      <th>end_station_name</th>\n",
       "      <th>end_station_latitude</th>\n",
       "      <th>end_station_longitude</th>\n",
       "      <th>bike_id</th>\n",
       "      <th>user_type</th>\n",
       "      <th>member_birth_year</th>\n",
       "      <th>member_gender</th>\n",
       "      <th>bike_share_for_all_trip</th>\n",
       "    </tr>\n",
       "  </thead>\n",
       "  <tbody>\n",
       "    <tr>\n",
       "      <th>0</th>\n",
       "      <td>52185</td>\n",
       "      <td>2019-02-28 17:32:10.1450</td>\n",
       "      <td>2019-03-01 08:01:55.9750</td>\n",
       "      <td>21.0</td>\n",
       "      <td>Montgomery St BART Station (Market St at 2nd St)</td>\n",
       "      <td>37.789625</td>\n",
       "      <td>-122.400811</td>\n",
       "      <td>13.0</td>\n",
       "      <td>Commercial St at Montgomery St</td>\n",
       "      <td>37.794231</td>\n",
       "      <td>-122.402923</td>\n",
       "      <td>4902</td>\n",
       "      <td>Customer</td>\n",
       "      <td>1984.0</td>\n",
       "      <td>Male</td>\n",
       "      <td>No</td>\n",
       "    </tr>\n",
       "    <tr>\n",
       "      <th>1</th>\n",
       "      <td>42521</td>\n",
       "      <td>2019-02-28 18:53:21.7890</td>\n",
       "      <td>2019-03-01 06:42:03.0560</td>\n",
       "      <td>23.0</td>\n",
       "      <td>The Embarcadero at Steuart St</td>\n",
       "      <td>37.791464</td>\n",
       "      <td>-122.391034</td>\n",
       "      <td>81.0</td>\n",
       "      <td>Berry St at 4th St</td>\n",
       "      <td>37.775880</td>\n",
       "      <td>-122.393170</td>\n",
       "      <td>2535</td>\n",
       "      <td>Customer</td>\n",
       "      <td>NaN</td>\n",
       "      <td>NaN</td>\n",
       "      <td>No</td>\n",
       "    </tr>\n",
       "    <tr>\n",
       "      <th>2</th>\n",
       "      <td>61854</td>\n",
       "      <td>2019-02-28 12:13:13.2180</td>\n",
       "      <td>2019-03-01 05:24:08.1460</td>\n",
       "      <td>86.0</td>\n",
       "      <td>Market St at Dolores St</td>\n",
       "      <td>37.769305</td>\n",
       "      <td>-122.426826</td>\n",
       "      <td>3.0</td>\n",
       "      <td>Powell St BART Station (Market St at 4th St)</td>\n",
       "      <td>37.786375</td>\n",
       "      <td>-122.404904</td>\n",
       "      <td>5905</td>\n",
       "      <td>Customer</td>\n",
       "      <td>1972.0</td>\n",
       "      <td>Male</td>\n",
       "      <td>No</td>\n",
       "    </tr>\n",
       "    <tr>\n",
       "      <th>3</th>\n",
       "      <td>36490</td>\n",
       "      <td>2019-02-28 17:54:26.0100</td>\n",
       "      <td>2019-03-01 04:02:36.8420</td>\n",
       "      <td>375.0</td>\n",
       "      <td>Grove St at Masonic Ave</td>\n",
       "      <td>37.774836</td>\n",
       "      <td>-122.446546</td>\n",
       "      <td>70.0</td>\n",
       "      <td>Central Ave at Fell St</td>\n",
       "      <td>37.773311</td>\n",
       "      <td>-122.444293</td>\n",
       "      <td>6638</td>\n",
       "      <td>Subscriber</td>\n",
       "      <td>1989.0</td>\n",
       "      <td>Other</td>\n",
       "      <td>No</td>\n",
       "    </tr>\n",
       "    <tr>\n",
       "      <th>4</th>\n",
       "      <td>1585</td>\n",
       "      <td>2019-02-28 23:54:18.5490</td>\n",
       "      <td>2019-03-01 00:20:44.0740</td>\n",
       "      <td>7.0</td>\n",
       "      <td>Frank H Ogawa Plaza</td>\n",
       "      <td>37.804562</td>\n",
       "      <td>-122.271738</td>\n",
       "      <td>222.0</td>\n",
       "      <td>10th Ave at E 15th St</td>\n",
       "      <td>37.792714</td>\n",
       "      <td>-122.248780</td>\n",
       "      <td>4898</td>\n",
       "      <td>Subscriber</td>\n",
       "      <td>1974.0</td>\n",
       "      <td>Male</td>\n",
       "      <td>Yes</td>\n",
       "    </tr>\n",
       "  </tbody>\n",
       "</table>\n",
       "</div>"
      ],
      "text/plain": [
       "   duration_sec                start_time                  end_time  \\\n",
       "0         52185  2019-02-28 17:32:10.1450  2019-03-01 08:01:55.9750   \n",
       "1         42521  2019-02-28 18:53:21.7890  2019-03-01 06:42:03.0560   \n",
       "2         61854  2019-02-28 12:13:13.2180  2019-03-01 05:24:08.1460   \n",
       "3         36490  2019-02-28 17:54:26.0100  2019-03-01 04:02:36.8420   \n",
       "4          1585  2019-02-28 23:54:18.5490  2019-03-01 00:20:44.0740   \n",
       "\n",
       "   start_station_id                                start_station_name  \\\n",
       "0              21.0  Montgomery St BART Station (Market St at 2nd St)   \n",
       "1              23.0                     The Embarcadero at Steuart St   \n",
       "2              86.0                           Market St at Dolores St   \n",
       "3             375.0                           Grove St at Masonic Ave   \n",
       "4               7.0                               Frank H Ogawa Plaza   \n",
       "\n",
       "   start_station_latitude  start_station_longitude  end_station_id  \\\n",
       "0               37.789625              -122.400811            13.0   \n",
       "1               37.791464              -122.391034            81.0   \n",
       "2               37.769305              -122.426826             3.0   \n",
       "3               37.774836              -122.446546            70.0   \n",
       "4               37.804562              -122.271738           222.0   \n",
       "\n",
       "                               end_station_name  end_station_latitude  \\\n",
       "0                Commercial St at Montgomery St             37.794231   \n",
       "1                            Berry St at 4th St             37.775880   \n",
       "2  Powell St BART Station (Market St at 4th St)             37.786375   \n",
       "3                        Central Ave at Fell St             37.773311   \n",
       "4                         10th Ave at E 15th St             37.792714   \n",
       "\n",
       "   end_station_longitude  bike_id   user_type  member_birth_year  \\\n",
       "0            -122.402923     4902    Customer             1984.0   \n",
       "1            -122.393170     2535    Customer                NaN   \n",
       "2            -122.404904     5905    Customer             1972.0   \n",
       "3            -122.444293     6638  Subscriber             1989.0   \n",
       "4            -122.248780     4898  Subscriber             1974.0   \n",
       "\n",
       "  member_gender bike_share_for_all_trip  \n",
       "0          Male                      No  \n",
       "1           NaN                      No  \n",
       "2          Male                      No  \n",
       "3         Other                      No  \n",
       "4          Male                     Yes  "
      ]
     },
     "execution_count": 2,
     "metadata": {},
     "output_type": "execute_result"
    }
   ],
   "source": [
    "#import my dataset using pandas \n",
    "df = pd.read_csv(r'C:\\Users\\vanes\\OneDrive\\Desktop\\Projects- ALX-T\\201902-fordgobike-tripdata.csv')\n",
    "df.head()"
   ]
  },
  {
   "cell_type": "code",
   "execution_count": 3,
   "id": "ce8bfae4",
   "metadata": {},
   "outputs": [
    {
     "data": {
      "text/plain": [
       "(183412, 16)"
      ]
     },
     "execution_count": 3,
     "metadata": {},
     "output_type": "execute_result"
    }
   ],
   "source": [
    "df.shape"
   ]
  },
  {
   "cell_type": "code",
   "execution_count": 4,
   "id": "b0b52ea4",
   "metadata": {},
   "outputs": [
    {
     "name": "stdout",
     "output_type": "stream",
     "text": [
      "<class 'pandas.core.frame.DataFrame'>\n",
      "RangeIndex: 183412 entries, 0 to 183411\n",
      "Data columns (total 16 columns):\n",
      " #   Column                   Non-Null Count   Dtype  \n",
      "---  ------                   --------------   -----  \n",
      " 0   duration_sec             183412 non-null  int64  \n",
      " 1   start_time               183412 non-null  object \n",
      " 2   end_time                 183412 non-null  object \n",
      " 3   start_station_id         183215 non-null  float64\n",
      " 4   start_station_name       183215 non-null  object \n",
      " 5   start_station_latitude   183412 non-null  float64\n",
      " 6   start_station_longitude  183412 non-null  float64\n",
      " 7   end_station_id           183215 non-null  float64\n",
      " 8   end_station_name         183215 non-null  object \n",
      " 9   end_station_latitude     183412 non-null  float64\n",
      " 10  end_station_longitude    183412 non-null  float64\n",
      " 11  bike_id                  183412 non-null  int64  \n",
      " 12  user_type                183412 non-null  object \n",
      " 13  member_birth_year        175147 non-null  float64\n",
      " 14  member_gender            175147 non-null  object \n",
      " 15  bike_share_for_all_trip  183412 non-null  object \n",
      "dtypes: float64(7), int64(2), object(7)\n",
      "memory usage: 22.4+ MB\n"
     ]
    }
   ],
   "source": [
    "df.info()"
   ]
  },
  {
   "cell_type": "code",
   "execution_count": 5,
   "id": "bf8660c6",
   "metadata": {},
   "outputs": [
    {
     "data": {
      "text/html": [
       "<div>\n",
       "<style scoped>\n",
       "    .dataframe tbody tr th:only-of-type {\n",
       "        vertical-align: middle;\n",
       "    }\n",
       "\n",
       "    .dataframe tbody tr th {\n",
       "        vertical-align: top;\n",
       "    }\n",
       "\n",
       "    .dataframe thead th {\n",
       "        text-align: right;\n",
       "    }\n",
       "</style>\n",
       "<table border=\"1\" class=\"dataframe\">\n",
       "  <thead>\n",
       "    <tr style=\"text-align: right;\">\n",
       "      <th></th>\n",
       "      <th>duration_sec</th>\n",
       "      <th>start_station_id</th>\n",
       "      <th>start_station_latitude</th>\n",
       "      <th>start_station_longitude</th>\n",
       "      <th>end_station_id</th>\n",
       "      <th>end_station_latitude</th>\n",
       "      <th>end_station_longitude</th>\n",
       "      <th>bike_id</th>\n",
       "      <th>member_birth_year</th>\n",
       "    </tr>\n",
       "  </thead>\n",
       "  <tbody>\n",
       "    <tr>\n",
       "      <th>count</th>\n",
       "      <td>183412.000000</td>\n",
       "      <td>183215.000000</td>\n",
       "      <td>183412.000000</td>\n",
       "      <td>183412.000000</td>\n",
       "      <td>183215.000000</td>\n",
       "      <td>183412.000000</td>\n",
       "      <td>183412.000000</td>\n",
       "      <td>183412.000000</td>\n",
       "      <td>175147.000000</td>\n",
       "    </tr>\n",
       "    <tr>\n",
       "      <th>mean</th>\n",
       "      <td>726.078435</td>\n",
       "      <td>138.590427</td>\n",
       "      <td>37.771223</td>\n",
       "      <td>-122.352664</td>\n",
       "      <td>136.249123</td>\n",
       "      <td>37.771427</td>\n",
       "      <td>-122.352250</td>\n",
       "      <td>4472.906375</td>\n",
       "      <td>1984.806437</td>\n",
       "    </tr>\n",
       "    <tr>\n",
       "      <th>std</th>\n",
       "      <td>1794.389780</td>\n",
       "      <td>111.778864</td>\n",
       "      <td>0.099581</td>\n",
       "      <td>0.117097</td>\n",
       "      <td>111.515131</td>\n",
       "      <td>0.099490</td>\n",
       "      <td>0.116673</td>\n",
       "      <td>1664.383394</td>\n",
       "      <td>10.116689</td>\n",
       "    </tr>\n",
       "    <tr>\n",
       "      <th>min</th>\n",
       "      <td>61.000000</td>\n",
       "      <td>3.000000</td>\n",
       "      <td>37.317298</td>\n",
       "      <td>-122.453704</td>\n",
       "      <td>3.000000</td>\n",
       "      <td>37.317298</td>\n",
       "      <td>-122.453704</td>\n",
       "      <td>11.000000</td>\n",
       "      <td>1878.000000</td>\n",
       "    </tr>\n",
       "    <tr>\n",
       "      <th>25%</th>\n",
       "      <td>325.000000</td>\n",
       "      <td>47.000000</td>\n",
       "      <td>37.770083</td>\n",
       "      <td>-122.412408</td>\n",
       "      <td>44.000000</td>\n",
       "      <td>37.770407</td>\n",
       "      <td>-122.411726</td>\n",
       "      <td>3777.000000</td>\n",
       "      <td>1980.000000</td>\n",
       "    </tr>\n",
       "    <tr>\n",
       "      <th>50%</th>\n",
       "      <td>514.000000</td>\n",
       "      <td>104.000000</td>\n",
       "      <td>37.780760</td>\n",
       "      <td>-122.398285</td>\n",
       "      <td>100.000000</td>\n",
       "      <td>37.781010</td>\n",
       "      <td>-122.398279</td>\n",
       "      <td>4958.000000</td>\n",
       "      <td>1987.000000</td>\n",
       "    </tr>\n",
       "    <tr>\n",
       "      <th>75%</th>\n",
       "      <td>796.000000</td>\n",
       "      <td>239.000000</td>\n",
       "      <td>37.797280</td>\n",
       "      <td>-122.286533</td>\n",
       "      <td>235.000000</td>\n",
       "      <td>37.797320</td>\n",
       "      <td>-122.288045</td>\n",
       "      <td>5502.000000</td>\n",
       "      <td>1992.000000</td>\n",
       "    </tr>\n",
       "    <tr>\n",
       "      <th>max</th>\n",
       "      <td>85444.000000</td>\n",
       "      <td>398.000000</td>\n",
       "      <td>37.880222</td>\n",
       "      <td>-121.874119</td>\n",
       "      <td>398.000000</td>\n",
       "      <td>37.880222</td>\n",
       "      <td>-121.874119</td>\n",
       "      <td>6645.000000</td>\n",
       "      <td>2001.000000</td>\n",
       "    </tr>\n",
       "  </tbody>\n",
       "</table>\n",
       "</div>"
      ],
      "text/plain": [
       "        duration_sec  start_station_id  start_station_latitude  \\\n",
       "count  183412.000000     183215.000000           183412.000000   \n",
       "mean      726.078435        138.590427               37.771223   \n",
       "std      1794.389780        111.778864                0.099581   \n",
       "min        61.000000          3.000000               37.317298   \n",
       "25%       325.000000         47.000000               37.770083   \n",
       "50%       514.000000        104.000000               37.780760   \n",
       "75%       796.000000        239.000000               37.797280   \n",
       "max     85444.000000        398.000000               37.880222   \n",
       "\n",
       "       start_station_longitude  end_station_id  end_station_latitude  \\\n",
       "count            183412.000000   183215.000000         183412.000000   \n",
       "mean               -122.352664      136.249123             37.771427   \n",
       "std                   0.117097      111.515131              0.099490   \n",
       "min                -122.453704        3.000000             37.317298   \n",
       "25%                -122.412408       44.000000             37.770407   \n",
       "50%                -122.398285      100.000000             37.781010   \n",
       "75%                -122.286533      235.000000             37.797320   \n",
       "max                -121.874119      398.000000             37.880222   \n",
       "\n",
       "       end_station_longitude        bike_id  member_birth_year  \n",
       "count          183412.000000  183412.000000      175147.000000  \n",
       "mean             -122.352250    4472.906375        1984.806437  \n",
       "std                 0.116673    1664.383394          10.116689  \n",
       "min              -122.453704      11.000000        1878.000000  \n",
       "25%              -122.411726    3777.000000        1980.000000  \n",
       "50%              -122.398279    4958.000000        1987.000000  \n",
       "75%              -122.288045    5502.000000        1992.000000  \n",
       "max              -121.874119    6645.000000        2001.000000  "
      ]
     },
     "execution_count": 5,
     "metadata": {},
     "output_type": "execute_result"
    }
   ],
   "source": [
    "df.describe()"
   ]
  },
  {
   "cell_type": "markdown",
   "id": "63fd082a",
   "metadata": {},
   "source": [
    "### Data Cleaning"
   ]
  },
  {
   "cell_type": "code",
   "execution_count": 6,
   "id": "216cbe16",
   "metadata": {},
   "outputs": [],
   "source": [
    "# make a copy of the original dataset\n",
    "df_copy = df.copy()"
   ]
  },
  {
   "cell_type": "markdown",
   "id": "eefaeb5e",
   "metadata": {},
   "source": [
    "Drop columns that will not be needed"
   ]
  },
  {
   "cell_type": "code",
   "execution_count": 7,
   "id": "36d9a527",
   "metadata": {},
   "outputs": [],
   "source": [
    "# drop not needed columns, use pandas .drop() method\n",
    "df_copy.drop(['start_station_latitude', 'start_station_longitude','end_station_latitude', 'end_station_longitude'],\n",
    "            axis = 1, inplace = True)"
   ]
  },
  {
   "cell_type": "code",
   "execution_count": 8,
   "id": "28d7fcc5",
   "metadata": {
    "scrolled": true
   },
   "outputs": [
    {
     "data": {
      "text/html": [
       "<div>\n",
       "<style scoped>\n",
       "    .dataframe tbody tr th:only-of-type {\n",
       "        vertical-align: middle;\n",
       "    }\n",
       "\n",
       "    .dataframe tbody tr th {\n",
       "        vertical-align: top;\n",
       "    }\n",
       "\n",
       "    .dataframe thead th {\n",
       "        text-align: right;\n",
       "    }\n",
       "</style>\n",
       "<table border=\"1\" class=\"dataframe\">\n",
       "  <thead>\n",
       "    <tr style=\"text-align: right;\">\n",
       "      <th></th>\n",
       "      <th>duration_sec</th>\n",
       "      <th>start_time</th>\n",
       "      <th>end_time</th>\n",
       "      <th>start_station_id</th>\n",
       "      <th>start_station_name</th>\n",
       "      <th>end_station_id</th>\n",
       "      <th>end_station_name</th>\n",
       "      <th>bike_id</th>\n",
       "      <th>user_type</th>\n",
       "      <th>member_birth_year</th>\n",
       "      <th>member_gender</th>\n",
       "      <th>bike_share_for_all_trip</th>\n",
       "    </tr>\n",
       "  </thead>\n",
       "  <tbody>\n",
       "    <tr>\n",
       "      <th>0</th>\n",
       "      <td>52185</td>\n",
       "      <td>2019-02-28 17:32:10.1450</td>\n",
       "      <td>2019-03-01 08:01:55.9750</td>\n",
       "      <td>21.0</td>\n",
       "      <td>Montgomery St BART Station (Market St at 2nd St)</td>\n",
       "      <td>13.0</td>\n",
       "      <td>Commercial St at Montgomery St</td>\n",
       "      <td>4902</td>\n",
       "      <td>Customer</td>\n",
       "      <td>1984.0</td>\n",
       "      <td>Male</td>\n",
       "      <td>No</td>\n",
       "    </tr>\n",
       "  </tbody>\n",
       "</table>\n",
       "</div>"
      ],
      "text/plain": [
       "   duration_sec                start_time                  end_time  \\\n",
       "0         52185  2019-02-28 17:32:10.1450  2019-03-01 08:01:55.9750   \n",
       "\n",
       "   start_station_id                                start_station_name  \\\n",
       "0              21.0  Montgomery St BART Station (Market St at 2nd St)   \n",
       "\n",
       "   end_station_id                end_station_name  bike_id user_type  \\\n",
       "0            13.0  Commercial St at Montgomery St     4902  Customer   \n",
       "\n",
       "   member_birth_year member_gender bike_share_for_all_trip  \n",
       "0             1984.0          Male                      No  "
      ]
     },
     "execution_count": 8,
     "metadata": {},
     "output_type": "execute_result"
    }
   ],
   "source": [
    "# check to see if the code produce the right outcome.\n",
    "df_copy.head(1)"
   ]
  },
  {
   "cell_type": "markdown",
   "id": "d273a010",
   "metadata": {},
   "source": [
    "Change datatype for some columns."
   ]
  },
  {
   "cell_type": "code",
   "execution_count": 9,
   "id": "dee3635f",
   "metadata": {},
   "outputs": [],
   "source": [
    "def change_type(col, type):\n",
    "    \"\"\" This function changes the datatype of an entire column in a dataframe.\n",
    "    \"\"\"\n",
    "    df_copy[col] = df_copy[col].astype(type)"
   ]
  },
  {
   "cell_type": "code",
   "execution_count": 10,
   "id": "096727ce",
   "metadata": {},
   "outputs": [],
   "source": [
    "change_type('start_time', 'datetime64[ns]')\n",
    "change_type('end_time', 'datetime64[ns]')\n",
    "change_type('start_station_id', 'str')\n",
    "change_type('end_station_id', 'str')\n",
    "change_type('bike_id', 'str')\n",
    "change_type('member_birth_year', 'str')"
   ]
  },
  {
   "cell_type": "code",
   "execution_count": 11,
   "id": "a40cfa41",
   "metadata": {},
   "outputs": [
    {
     "name": "stdout",
     "output_type": "stream",
     "text": [
      "<class 'pandas.core.frame.DataFrame'>\n",
      "RangeIndex: 183412 entries, 0 to 183411\n",
      "Data columns (total 12 columns):\n",
      " #   Column                   Non-Null Count   Dtype         \n",
      "---  ------                   --------------   -----         \n",
      " 0   duration_sec             183412 non-null  int64         \n",
      " 1   start_time               183412 non-null  datetime64[ns]\n",
      " 2   end_time                 183412 non-null  datetime64[ns]\n",
      " 3   start_station_id         183412 non-null  object        \n",
      " 4   start_station_name       183215 non-null  object        \n",
      " 5   end_station_id           183412 non-null  object        \n",
      " 6   end_station_name         183215 non-null  object        \n",
      " 7   bike_id                  183412 non-null  object        \n",
      " 8   user_type                183412 non-null  object        \n",
      " 9   member_birth_year        183412 non-null  object        \n",
      " 10  member_gender            175147 non-null  object        \n",
      " 11  bike_share_for_all_trip  183412 non-null  object        \n",
      "dtypes: datetime64[ns](2), int64(1), object(9)\n",
      "memory usage: 16.8+ MB\n"
     ]
    }
   ],
   "source": [
    "df_copy.info()"
   ]
  },
  {
   "cell_type": "code",
   "execution_count": 12,
   "id": "09021db9",
   "metadata": {},
   "outputs": [
    {
     "data": {
      "text/html": [
       "<div>\n",
       "<style scoped>\n",
       "    .dataframe tbody tr th:only-of-type {\n",
       "        vertical-align: middle;\n",
       "    }\n",
       "\n",
       "    .dataframe tbody tr th {\n",
       "        vertical-align: top;\n",
       "    }\n",
       "\n",
       "    .dataframe thead th {\n",
       "        text-align: right;\n",
       "    }\n",
       "</style>\n",
       "<table border=\"1\" class=\"dataframe\">\n",
       "  <thead>\n",
       "    <tr style=\"text-align: right;\">\n",
       "      <th></th>\n",
       "      <th>duration_sec</th>\n",
       "      <th>start_time</th>\n",
       "      <th>end_time</th>\n",
       "      <th>start_time_day</th>\n",
       "      <th>start_station_id</th>\n",
       "      <th>start_station_name</th>\n",
       "      <th>end_station_id</th>\n",
       "      <th>end_station_name</th>\n",
       "      <th>bike_id</th>\n",
       "      <th>user_type</th>\n",
       "      <th>member_birth_year</th>\n",
       "      <th>member_gender</th>\n",
       "      <th>bike_share_for_all_trip</th>\n",
       "    </tr>\n",
       "  </thead>\n",
       "  <tbody>\n",
       "    <tr>\n",
       "      <th>0</th>\n",
       "      <td>52185</td>\n",
       "      <td>2019-02-28 17:32:10.145</td>\n",
       "      <td>2019-03-01 08:01:55.975</td>\n",
       "      <td>3</td>\n",
       "      <td>21.0</td>\n",
       "      <td>Montgomery St BART Station (Market St at 2nd St)</td>\n",
       "      <td>13.0</td>\n",
       "      <td>Commercial St at Montgomery St</td>\n",
       "      <td>4902</td>\n",
       "      <td>Customer</td>\n",
       "      <td>1984.0</td>\n",
       "      <td>Male</td>\n",
       "      <td>No</td>\n",
       "    </tr>\n",
       "    <tr>\n",
       "      <th>1</th>\n",
       "      <td>42521</td>\n",
       "      <td>2019-02-28 18:53:21.789</td>\n",
       "      <td>2019-03-01 06:42:03.056</td>\n",
       "      <td>3</td>\n",
       "      <td>23.0</td>\n",
       "      <td>The Embarcadero at Steuart St</td>\n",
       "      <td>81.0</td>\n",
       "      <td>Berry St at 4th St</td>\n",
       "      <td>2535</td>\n",
       "      <td>Customer</td>\n",
       "      <td>nan</td>\n",
       "      <td>NaN</td>\n",
       "      <td>No</td>\n",
       "    </tr>\n",
       "    <tr>\n",
       "      <th>2</th>\n",
       "      <td>61854</td>\n",
       "      <td>2019-02-28 12:13:13.218</td>\n",
       "      <td>2019-03-01 05:24:08.146</td>\n",
       "      <td>3</td>\n",
       "      <td>86.0</td>\n",
       "      <td>Market St at Dolores St</td>\n",
       "      <td>3.0</td>\n",
       "      <td>Powell St BART Station (Market St at 4th St)</td>\n",
       "      <td>5905</td>\n",
       "      <td>Customer</td>\n",
       "      <td>1972.0</td>\n",
       "      <td>Male</td>\n",
       "      <td>No</td>\n",
       "    </tr>\n",
       "    <tr>\n",
       "      <th>3</th>\n",
       "      <td>36490</td>\n",
       "      <td>2019-02-28 17:54:26.010</td>\n",
       "      <td>2019-03-01 04:02:36.842</td>\n",
       "      <td>3</td>\n",
       "      <td>375.0</td>\n",
       "      <td>Grove St at Masonic Ave</td>\n",
       "      <td>70.0</td>\n",
       "      <td>Central Ave at Fell St</td>\n",
       "      <td>6638</td>\n",
       "      <td>Subscriber</td>\n",
       "      <td>1989.0</td>\n",
       "      <td>Other</td>\n",
       "      <td>No</td>\n",
       "    </tr>\n",
       "    <tr>\n",
       "      <th>4</th>\n",
       "      <td>1585</td>\n",
       "      <td>2019-02-28 23:54:18.549</td>\n",
       "      <td>2019-03-01 00:20:44.074</td>\n",
       "      <td>3</td>\n",
       "      <td>7.0</td>\n",
       "      <td>Frank H Ogawa Plaza</td>\n",
       "      <td>222.0</td>\n",
       "      <td>10th Ave at E 15th St</td>\n",
       "      <td>4898</td>\n",
       "      <td>Subscriber</td>\n",
       "      <td>1974.0</td>\n",
       "      <td>Male</td>\n",
       "      <td>Yes</td>\n",
       "    </tr>\n",
       "  </tbody>\n",
       "</table>\n",
       "</div>"
      ],
      "text/plain": [
       "   duration_sec              start_time                end_time  \\\n",
       "0         52185 2019-02-28 17:32:10.145 2019-03-01 08:01:55.975   \n",
       "1         42521 2019-02-28 18:53:21.789 2019-03-01 06:42:03.056   \n",
       "2         61854 2019-02-28 12:13:13.218 2019-03-01 05:24:08.146   \n",
       "3         36490 2019-02-28 17:54:26.010 2019-03-01 04:02:36.842   \n",
       "4          1585 2019-02-28 23:54:18.549 2019-03-01 00:20:44.074   \n",
       "\n",
       "   start_time_day start_station_id  \\\n",
       "0               3             21.0   \n",
       "1               3             23.0   \n",
       "2               3             86.0   \n",
       "3               3            375.0   \n",
       "4               3              7.0   \n",
       "\n",
       "                                 start_station_name end_station_id  \\\n",
       "0  Montgomery St BART Station (Market St at 2nd St)           13.0   \n",
       "1                     The Embarcadero at Steuart St           81.0   \n",
       "2                           Market St at Dolores St            3.0   \n",
       "3                           Grove St at Masonic Ave           70.0   \n",
       "4                               Frank H Ogawa Plaza          222.0   \n",
       "\n",
       "                               end_station_name bike_id   user_type  \\\n",
       "0                Commercial St at Montgomery St    4902    Customer   \n",
       "1                            Berry St at 4th St    2535    Customer   \n",
       "2  Powell St BART Station (Market St at 4th St)    5905    Customer   \n",
       "3                        Central Ave at Fell St    6638  Subscriber   \n",
       "4                         10th Ave at E 15th St    4898  Subscriber   \n",
       "\n",
       "  member_birth_year member_gender bike_share_for_all_trip  \n",
       "0            1984.0          Male                      No  \n",
       "1               nan           NaN                      No  \n",
       "2            1972.0          Male                      No  \n",
       "3            1989.0         Other                      No  \n",
       "4            1974.0          Male                     Yes  "
      ]
     },
     "execution_count": 12,
     "metadata": {},
     "output_type": "execute_result"
    }
   ],
   "source": [
    "# create a new column, consisting of only the day of the week extracted from the start_time column\n",
    "df_copy.insert(3, 'start_time_day', df_copy['start_time'].dt.dayofweek, True )\n",
    "df_copy.head()"
   ]
  },
  {
   "cell_type": "code",
   "execution_count": 13,
   "id": "4ec8ead2",
   "metadata": {},
   "outputs": [],
   "source": [
    "# convert duration_sec to minutes\n",
    "df_copy.insert(1, 'duration_min', round(df_copy['duration_sec'] / 60.0, 2), True )"
   ]
  },
  {
   "cell_type": "code",
   "execution_count": 14,
   "id": "7c719fe0",
   "metadata": {
    "scrolled": true
   },
   "outputs": [
    {
     "data": {
      "text/html": [
       "<div>\n",
       "<style scoped>\n",
       "    .dataframe tbody tr th:only-of-type {\n",
       "        vertical-align: middle;\n",
       "    }\n",
       "\n",
       "    .dataframe tbody tr th {\n",
       "        vertical-align: top;\n",
       "    }\n",
       "\n",
       "    .dataframe thead th {\n",
       "        text-align: right;\n",
       "    }\n",
       "</style>\n",
       "<table border=\"1\" class=\"dataframe\">\n",
       "  <thead>\n",
       "    <tr style=\"text-align: right;\">\n",
       "      <th></th>\n",
       "      <th>duration_sec</th>\n",
       "      <th>duration_min</th>\n",
       "      <th>start_time</th>\n",
       "      <th>end_time</th>\n",
       "      <th>start_time_day</th>\n",
       "      <th>start_station_id</th>\n",
       "      <th>start_station_name</th>\n",
       "      <th>end_station_id</th>\n",
       "      <th>end_station_name</th>\n",
       "      <th>bike_id</th>\n",
       "      <th>user_type</th>\n",
       "      <th>member_birth_year</th>\n",
       "      <th>member_gender</th>\n",
       "      <th>bike_share_for_all_trip</th>\n",
       "    </tr>\n",
       "  </thead>\n",
       "  <tbody>\n",
       "    <tr>\n",
       "      <th>0</th>\n",
       "      <td>52185</td>\n",
       "      <td>869.75</td>\n",
       "      <td>2019-02-28 17:32:10.145</td>\n",
       "      <td>2019-03-01 08:01:55.975</td>\n",
       "      <td>3</td>\n",
       "      <td>21.0</td>\n",
       "      <td>Montgomery St BART Station (Market St at 2nd St)</td>\n",
       "      <td>13.0</td>\n",
       "      <td>Commercial St at Montgomery St</td>\n",
       "      <td>4902</td>\n",
       "      <td>Customer</td>\n",
       "      <td>1984.0</td>\n",
       "      <td>Male</td>\n",
       "      <td>No</td>\n",
       "    </tr>\n",
       "    <tr>\n",
       "      <th>1</th>\n",
       "      <td>42521</td>\n",
       "      <td>708.68</td>\n",
       "      <td>2019-02-28 18:53:21.789</td>\n",
       "      <td>2019-03-01 06:42:03.056</td>\n",
       "      <td>3</td>\n",
       "      <td>23.0</td>\n",
       "      <td>The Embarcadero at Steuart St</td>\n",
       "      <td>81.0</td>\n",
       "      <td>Berry St at 4th St</td>\n",
       "      <td>2535</td>\n",
       "      <td>Customer</td>\n",
       "      <td>nan</td>\n",
       "      <td>NaN</td>\n",
       "      <td>No</td>\n",
       "    </tr>\n",
       "    <tr>\n",
       "      <th>2</th>\n",
       "      <td>61854</td>\n",
       "      <td>1030.90</td>\n",
       "      <td>2019-02-28 12:13:13.218</td>\n",
       "      <td>2019-03-01 05:24:08.146</td>\n",
       "      <td>3</td>\n",
       "      <td>86.0</td>\n",
       "      <td>Market St at Dolores St</td>\n",
       "      <td>3.0</td>\n",
       "      <td>Powell St BART Station (Market St at 4th St)</td>\n",
       "      <td>5905</td>\n",
       "      <td>Customer</td>\n",
       "      <td>1972.0</td>\n",
       "      <td>Male</td>\n",
       "      <td>No</td>\n",
       "    </tr>\n",
       "    <tr>\n",
       "      <th>3</th>\n",
       "      <td>36490</td>\n",
       "      <td>608.17</td>\n",
       "      <td>2019-02-28 17:54:26.010</td>\n",
       "      <td>2019-03-01 04:02:36.842</td>\n",
       "      <td>3</td>\n",
       "      <td>375.0</td>\n",
       "      <td>Grove St at Masonic Ave</td>\n",
       "      <td>70.0</td>\n",
       "      <td>Central Ave at Fell St</td>\n",
       "      <td>6638</td>\n",
       "      <td>Subscriber</td>\n",
       "      <td>1989.0</td>\n",
       "      <td>Other</td>\n",
       "      <td>No</td>\n",
       "    </tr>\n",
       "    <tr>\n",
       "      <th>4</th>\n",
       "      <td>1585</td>\n",
       "      <td>26.42</td>\n",
       "      <td>2019-02-28 23:54:18.549</td>\n",
       "      <td>2019-03-01 00:20:44.074</td>\n",
       "      <td>3</td>\n",
       "      <td>7.0</td>\n",
       "      <td>Frank H Ogawa Plaza</td>\n",
       "      <td>222.0</td>\n",
       "      <td>10th Ave at E 15th St</td>\n",
       "      <td>4898</td>\n",
       "      <td>Subscriber</td>\n",
       "      <td>1974.0</td>\n",
       "      <td>Male</td>\n",
       "      <td>Yes</td>\n",
       "    </tr>\n",
       "  </tbody>\n",
       "</table>\n",
       "</div>"
      ],
      "text/plain": [
       "   duration_sec  duration_min              start_time                end_time  \\\n",
       "0         52185        869.75 2019-02-28 17:32:10.145 2019-03-01 08:01:55.975   \n",
       "1         42521        708.68 2019-02-28 18:53:21.789 2019-03-01 06:42:03.056   \n",
       "2         61854       1030.90 2019-02-28 12:13:13.218 2019-03-01 05:24:08.146   \n",
       "3         36490        608.17 2019-02-28 17:54:26.010 2019-03-01 04:02:36.842   \n",
       "4          1585         26.42 2019-02-28 23:54:18.549 2019-03-01 00:20:44.074   \n",
       "\n",
       "   start_time_day start_station_id  \\\n",
       "0               3             21.0   \n",
       "1               3             23.0   \n",
       "2               3             86.0   \n",
       "3               3            375.0   \n",
       "4               3              7.0   \n",
       "\n",
       "                                 start_station_name end_station_id  \\\n",
       "0  Montgomery St BART Station (Market St at 2nd St)           13.0   \n",
       "1                     The Embarcadero at Steuart St           81.0   \n",
       "2                           Market St at Dolores St            3.0   \n",
       "3                           Grove St at Masonic Ave           70.0   \n",
       "4                               Frank H Ogawa Plaza          222.0   \n",
       "\n",
       "                               end_station_name bike_id   user_type  \\\n",
       "0                Commercial St at Montgomery St    4902    Customer   \n",
       "1                            Berry St at 4th St    2535    Customer   \n",
       "2  Powell St BART Station (Market St at 4th St)    5905    Customer   \n",
       "3                        Central Ave at Fell St    6638  Subscriber   \n",
       "4                         10th Ave at E 15th St    4898  Subscriber   \n",
       "\n",
       "  member_birth_year member_gender bike_share_for_all_trip  \n",
       "0            1984.0          Male                      No  \n",
       "1               nan           NaN                      No  \n",
       "2            1972.0          Male                      No  \n",
       "3            1989.0         Other                      No  \n",
       "4            1974.0          Male                     Yes  "
      ]
     },
     "execution_count": 14,
     "metadata": {},
     "output_type": "execute_result"
    }
   ],
   "source": [
    "df_copy.head()"
   ]
  },
  {
   "cell_type": "markdown",
   "id": "7bbf472d",
   "metadata": {},
   "source": [
    "### What is the structure of your dataset?\n",
    "\n",
    "> There are 183412 records(bike rides) with 16 features in the dataset for San Franciso Bay Area in 2019. These features are duration_sec, start_time, end_time, start_station_id, start_station_name, start_station_latitude, start_station_longitude, end_station_id, end_station_name, end_station_latitude, end_station_longitude, bike_id, user_type, member_birth_year, member_gender, bike_share_for_all_trip.\n",
    "\n",
    "### What is/are the main feature(s) of interest in your dataset?\n",
    "\n",
    ">  - I'm interested in finding the average duration of a trip.<br>   - What day of the week are most trips taken?\n",
    ">  <br>- What bike stations are most popular? (in terms of pickup and drop-off)\n",
    "\n",
    "### What features in the dataset do you think will help support your investigation into your feature(s) of interest?\n",
    "\n",
    "> - duration_sec <br>  - start_time <br> - start_station_id <br>- end_station_id <br>\n",
    "  \n",
    "  "
   ]
  },
  {
   "cell_type": "markdown",
   "id": "92889938",
   "metadata": {},
   "source": [
    "## Univariate Exploration\n",
    "> In this section, investigate distributions of individual variables. If you see unusual points or outliers, take a deeper look to clean things up and prepare yourself to look at relationships between variables."
   ]
  },
  {
   "cell_type": "markdown",
   "id": "9f82398c",
   "metadata": {},
   "source": [
    "#### Which user type is more in the dataset, subscriber or customer?"
   ]
  },
  {
   "cell_type": "code",
   "execution_count": 15,
   "id": "f6345bc0",
   "metadata": {},
   "outputs": [
    {
     "data": {
      "text/plain": [
       "Subscriber    163544\n",
       "Customer       19868\n",
       "Name: user_type, dtype: int64"
      ]
     },
     "execution_count": 15,
     "metadata": {},
     "output_type": "execute_result"
    }
   ],
   "source": [
    "user_types = df_copy['user_type'].value_counts()\n",
    "user_types"
   ]
  },
  {
   "cell_type": "code",
   "execution_count": 16,
   "id": "9cfabb3c",
   "metadata": {},
   "outputs": [
    {
     "data": {
      "image/png": "[encoded data removed]",
      "text/plain": [
       "<Figure size 576x576 with 1 Axes>"
      ]
     },
     "metadata": {},
     "output_type": "display_data"
    }
   ],
   "source": [
    "plt.figure(figsize=(8,8))\n",
    "plt.pie(user_types, labels = ['Subscriber', 'Customer'], startangle = 90);\n",
    "plt.legend(['Subscriber', 'Customer'], title = 'User Types')\n",
    "plt.title('Subscriber vs Customer', size=15);"
   ]
  },
  {
   "cell_type": "markdown",
   "id": "3e7d0b60",
   "metadata": {},
   "source": [
    "From the above visualization(pie chart), it can be deduced that Ford GoBike System has more subscribers than customers."
   ]
  },
  {
   "cell_type": "markdown",
   "id": "bc505dec",
   "metadata": {},
   "source": [
    "#### What day of the week are most trips taken?"
   ]
  },
  {
   "cell_type": "code",
   "execution_count": 17,
   "id": "ebdf82d9",
   "metadata": {},
   "outputs": [
    {
     "data": {
      "text/plain": [
       "0    26852\n",
       "1    31813\n",
       "2    29641\n",
       "3    35197\n",
       "4    28981\n",
       "5    15405\n",
       "6    15523\n",
       "Name: start_time_day, dtype: int64"
      ]
     },
     "execution_count": 17,
     "metadata": {},
     "output_type": "execute_result"
    }
   ],
   "source": [
    "start_time_day = df_copy['start_time_day'].value_counts().sort_index()\n",
    "start_time_day"
   ]
  },
  {
   "cell_type": "code",
   "execution_count": 18,
   "id": "7e18cf42",
   "metadata": {},
   "outputs": [],
   "source": [
    "labels = ['Mon', 'Tues', 'Wed', 'Thur', 'Fri', 'Sat', 'Sun']"
   ]
  },
  {
   "cell_type": "code",
   "execution_count": 19,
   "id": "51b53781",
   "metadata": {},
   "outputs": [
    {
     "data": {
      "image/png": "[encoded data removed]",
      "text/plain": [
       "<Figure size 576x432 with 1 Axes>"
      ]
     },
     "metadata": {
      "needs_background": "light"
     },
     "output_type": "display_data"
    }
   ],
   "source": [
    "plt.figure(figsize=(8,6))\n",
    "plt.bar(labels, start_time_day)\n",
    "plt.title('Number of Rides by Weekday', size = 15)\n",
    "plt.xlabel('Days of the Week', size = 12)\n",
    "plt.ylabel('No. of Rides', size = 12);"
   ]
  },
  {
   "cell_type": "markdown",
   "id": "b49e54d0",
   "metadata": {},
   "source": [
    "Most trips are taken during weekdays especially on **Thursdays**"
   ]
  },
  {
   "cell_type": "markdown",
   "id": "2928bb59",
   "metadata": {},
   "source": [
    "#### When are the peak hours?"
   ]
  },
  {
   "cell_type": "code",
   "execution_count": 20,
   "id": "4136a456",
   "metadata": {
    "scrolled": false
   },
   "outputs": [
    {
     "data": {
      "text/html": [
       "<div>\n",
       "<style scoped>\n",
       "    .dataframe tbody tr th:only-of-type {\n",
       "        vertical-align: middle;\n",
       "    }\n",
       "\n",
       "    .dataframe tbody tr th {\n",
       "        vertical-align: top;\n",
       "    }\n",
       "\n",
       "    .dataframe thead th {\n",
       "        text-align: right;\n",
       "    }\n",
       "</style>\n",
       "<table border=\"1\" class=\"dataframe\">\n",
       "  <thead>\n",
       "    <tr style=\"text-align: right;\">\n",
       "      <th></th>\n",
       "      <th>duration_sec</th>\n",
       "      <th>duration_min</th>\n",
       "      <th>start_time</th>\n",
       "      <th>end_time</th>\n",
       "      <th>start_hour</th>\n",
       "      <th>start_time_day</th>\n",
       "      <th>start_station_id</th>\n",
       "      <th>start_station_name</th>\n",
       "      <th>end_station_id</th>\n",
       "      <th>end_station_name</th>\n",
       "      <th>bike_id</th>\n",
       "      <th>user_type</th>\n",
       "      <th>member_birth_year</th>\n",
       "      <th>member_gender</th>\n",
       "      <th>bike_share_for_all_trip</th>\n",
       "    </tr>\n",
       "  </thead>\n",
       "  <tbody>\n",
       "    <tr>\n",
       "      <th>0</th>\n",
       "      <td>52185</td>\n",
       "      <td>869.75</td>\n",
       "      <td>2019-02-28 17:32:10.145</td>\n",
       "      <td>2019-03-01 08:01:55.975</td>\n",
       "      <td>17</td>\n",
       "      <td>3</td>\n",
       "      <td>21.0</td>\n",
       "      <td>Montgomery St BART Station (Market St at 2nd St)</td>\n",
       "      <td>13.0</td>\n",
       "      <td>Commercial St at Montgomery St</td>\n",
       "      <td>4902</td>\n",
       "      <td>Customer</td>\n",
       "      <td>1984.0</td>\n",
       "      <td>Male</td>\n",
       "      <td>No</td>\n",
       "    </tr>\n",
       "    <tr>\n",
       "      <th>1</th>\n",
       "      <td>42521</td>\n",
       "      <td>708.68</td>\n",
       "      <td>2019-02-28 18:53:21.789</td>\n",
       "      <td>2019-03-01 06:42:03.056</td>\n",
       "      <td>18</td>\n",
       "      <td>3</td>\n",
       "      <td>23.0</td>\n",
       "      <td>The Embarcadero at Steuart St</td>\n",
       "      <td>81.0</td>\n",
       "      <td>Berry St at 4th St</td>\n",
       "      <td>2535</td>\n",
       "      <td>Customer</td>\n",
       "      <td>nan</td>\n",
       "      <td>NaN</td>\n",
       "      <td>No</td>\n",
       "    </tr>\n",
       "    <tr>\n",
       "      <th>2</th>\n",
       "      <td>61854</td>\n",
       "      <td>1030.90</td>\n",
       "      <td>2019-02-28 12:13:13.218</td>\n",
       "      <td>2019-03-01 05:24:08.146</td>\n",
       "      <td>12</td>\n",
       "      <td>3</td>\n",
       "      <td>86.0</td>\n",
       "      <td>Market St at Dolores St</td>\n",
       "      <td>3.0</td>\n",
       "      <td>Powell St BART Station (Market St at 4th St)</td>\n",
       "      <td>5905</td>\n",
       "      <td>Customer</td>\n",
       "      <td>1972.0</td>\n",
       "      <td>Male</td>\n",
       "      <td>No</td>\n",
       "    </tr>\n",
       "    <tr>\n",
       "      <th>3</th>\n",
       "      <td>36490</td>\n",
       "      <td>608.17</td>\n",
       "      <td>2019-02-28 17:54:26.010</td>\n",
       "      <td>2019-03-01 04:02:36.842</td>\n",
       "      <td>17</td>\n",
       "      <td>3</td>\n",
       "      <td>375.0</td>\n",
       "      <td>Grove St at Masonic Ave</td>\n",
       "      <td>70.0</td>\n",
       "      <td>Central Ave at Fell St</td>\n",
       "      <td>6638</td>\n",
       "      <td>Subscriber</td>\n",
       "      <td>1989.0</td>\n",
       "      <td>Other</td>\n",
       "      <td>No</td>\n",
       "    </tr>\n",
       "    <tr>\n",
       "      <th>4</th>\n",
       "      <td>1585</td>\n",
       "      <td>26.42</td>\n",
       "      <td>2019-02-28 23:54:18.549</td>\n",
       "      <td>2019-03-01 00:20:44.074</td>\n",
       "      <td>23</td>\n",
       "      <td>3</td>\n",
       "      <td>7.0</td>\n",
       "      <td>Frank H Ogawa Plaza</td>\n",
       "      <td>222.0</td>\n",
       "      <td>10th Ave at E 15th St</td>\n",
       "      <td>4898</td>\n",
       "      <td>Subscriber</td>\n",
       "      <td>1974.0</td>\n",
       "      <td>Male</td>\n",
       "      <td>Yes</td>\n",
       "    </tr>\n",
       "  </tbody>\n",
       "</table>\n",
       "</div>"
      ],
      "text/plain": [
       "   duration_sec  duration_min              start_time                end_time  \\\n",
       "0         52185        869.75 2019-02-28 17:32:10.145 2019-03-01 08:01:55.975   \n",
       "1         42521        708.68 2019-02-28 18:53:21.789 2019-03-01 06:42:03.056   \n",
       "2         61854       1030.90 2019-02-28 12:13:13.218 2019-03-01 05:24:08.146   \n",
       "3         36490        608.17 2019-02-28 17:54:26.010 2019-03-01 04:02:36.842   \n",
       "4          1585         26.42 2019-02-28 23:54:18.549 2019-03-01 00:20:44.074   \n",
       "\n",
       "   start_hour  start_time_day start_station_id  \\\n",
       "0          17               3             21.0   \n",
       "1          18               3             23.0   \n",
       "2          12               3             86.0   \n",
       "3          17               3            375.0   \n",
       "4          23               3              7.0   \n",
       "\n",
       "                                 start_station_name end_station_id  \\\n",
       "0  Montgomery St BART Station (Market St at 2nd St)           13.0   \n",
       "1                     The Embarcadero at Steuart St           81.0   \n",
       "2                           Market St at Dolores St            3.0   \n",
       "3                           Grove St at Masonic Ave           70.0   \n",
       "4                               Frank H Ogawa Plaza          222.0   \n",
       "\n",
       "                               end_station_name bike_id   user_type  \\\n",
       "0                Commercial St at Montgomery St    4902    Customer   \n",
       "1                            Berry St at 4th St    2535    Customer   \n",
       "2  Powell St BART Station (Market St at 4th St)    5905    Customer   \n",
       "3                        Central Ave at Fell St    6638  Subscriber   \n",
       "4                         10th Ave at E 15th St    4898  Subscriber   \n",
       "\n",
       "  member_birth_year member_gender bike_share_for_all_trip  \n",
       "0            1984.0          Male                      No  \n",
       "1               nan           NaN                      No  \n",
       "2            1972.0          Male                      No  \n",
       "3            1989.0         Other                      No  \n",
       "4            1974.0          Male                     Yes  "
      ]
     },
     "execution_count": 20,
     "metadata": {},
     "output_type": "execute_result"
    }
   ],
   "source": [
    "# create a new column to extract the hour from the start_time column\n",
    "df_copy.insert(4, 'start_hour', df_copy['start_time'].dt.hour, True )\n",
    "df_copy.head()"
   ]
  },
  {
   "cell_type": "code",
   "execution_count": 21,
   "id": "fb31d342",
   "metadata": {
    "scrolled": true
   },
   "outputs": [
    {
     "data": {
      "text/plain": [
       "17    21864\n",
       "8     21056\n",
       "18    16827\n",
       "9     15903\n",
       "16    14169\n",
       "7     10614\n",
       "19     9881\n",
       "15     9174\n",
       "12     8724\n",
       "13     8551\n",
       "10     8364\n",
       "14     8152\n",
       "11     7884\n",
       "20     6482\n",
       "21     4561\n",
       "6      3485\n",
       "22     2916\n",
       "23     1646\n",
       "0       925\n",
       "5       896\n",
       "1       548\n",
       "2       381\n",
       "4       235\n",
       "3       174\n",
       "Name: start_hour, dtype: int64"
      ]
     },
     "execution_count": 21,
     "metadata": {},
     "output_type": "execute_result"
    }
   ],
   "source": [
    "df_copy['start_hour'].value_counts()"
   ]
  },
  {
   "cell_type": "code",
   "execution_count": 22,
   "id": "c9e12073",
   "metadata": {
    "scrolled": true
   },
   "outputs": [
    {
     "data": {
      "image/png": "[encoded data removed]",
      "text/plain": [
       "<Figure size 576x432 with 1 Axes>"
      ]
     },
     "metadata": {
      "needs_background": "light"
     },
     "output_type": "display_data"
    }
   ],
   "source": [
    "plt.figure(figsize=(8,6))\n",
    "plt.hist(data = df_copy, x = 'start_hour')\n",
    "plt.xlabel('Hours in a Day')\n",
    "plt.title('Daily Hour Rides', size=15);"
   ]
  },
  {
   "cell_type": "markdown",
   "id": "718164cd",
   "metadata": {},
   "source": [
    "From the histogram, it can be seen that more rides are taken during the hours of **7am to 10am**"
   ]
  },
  {
   "cell_type": "markdown",
   "id": "d8c1ac86",
   "metadata": {},
   "source": [
    "#### Which gender takes more rides?"
   ]
  },
  {
   "cell_type": "code",
   "execution_count": 23,
   "id": "2a12ab0b",
   "metadata": {},
   "outputs": [
    {
     "data": {
      "text/plain": [
       "array(['Male', nan, 'Other', 'Female'], dtype=object)"
      ]
     },
     "execution_count": 23,
     "metadata": {},
     "output_type": "execute_result"
    }
   ],
   "source": [
    "df_copy['member_gender'].unique()"
   ]
  },
  {
   "cell_type": "code",
   "execution_count": 24,
   "id": "ae41ade6",
   "metadata": {
    "scrolled": true
   },
   "outputs": [
    {
     "data": {
      "text/plain": [
       "Male      130651\n",
       "Female     40844\n",
       "Other       3652\n",
       "Name: member_gender, dtype: int64"
      ]
     },
     "execution_count": 24,
     "metadata": {},
     "output_type": "execute_result"
    }
   ],
   "source": [
    "gender = df_copy['member_gender'].value_counts()\n",
    "gender"
   ]
  },
  {
   "cell_type": "code",
   "execution_count": 25,
   "id": "1299d651",
   "metadata": {},
   "outputs": [
    {
     "data": {
      "image/png": "[encoded data removed]",
      "text/plain": [
       "<Figure size 576x576 with 1 Axes>"
      ]
     },
     "metadata": {},
     "output_type": "display_data"
    }
   ],
   "source": [
    "plt.figure(figsize=(8,8))\n",
    "plt.pie(gender, labels = ['Male', 'Female', 'Other']);\n",
    "plt.legend(['Male', 'Female', 'Other'], title = 'Gender')\n",
    "plt.title('Gender', size=15);"
   ]
  },
  {
   "cell_type": "markdown",
   "id": "0592ee23",
   "metadata": {},
   "source": [
    "There more male users(riders) who use bike sharing system in San Francisco Bay Area. "
   ]
  },
  {
   "cell_type": "markdown",
   "id": "388c78f3",
   "metadata": {},
   "source": [
    "#### What bike stations are most popular? (in terms of pickup and drop-off)"
   ]
  },
  {
   "cell_type": "code",
   "execution_count": 26,
   "id": "9a53a00b",
   "metadata": {
    "scrolled": true
   },
   "outputs": [
    {
     "data": {
      "text/plain": [
       "58.0    3904\n",
       "67.0    3544\n",
       "81.0    3052\n",
       "21.0    2895\n",
       "3.0     2760\n",
       "15.0    2710\n",
       "30.0    2703\n",
       "5.0     2327\n",
       "22.0    2293\n",
       "16.0    2283\n",
       "Name: start_station_id, dtype: int64"
      ]
     },
     "execution_count": 26,
     "metadata": {},
     "output_type": "execute_result"
    }
   ],
   "source": [
    "# get the top 10 stations with most start rides\n",
    "top_start = df_copy['start_station_id'].value_counts().nlargest(10)\n",
    "top_start"
   ]
  },
  {
   "cell_type": "code",
   "execution_count": 27,
   "id": "370d19a5",
   "metadata": {},
   "outputs": [
    {
     "data": {
      "image/png": "[encoded data removed]",
      "text/plain": [
       "<Figure size 576x432 with 1 Axes>"
      ]
     },
     "metadata": {
      "needs_background": "light"
     },
     "output_type": "display_data"
    }
   ],
   "source": [
    "plt.figure(figsize=(8,6))\n",
    "top_start.plot(kind = 'bar')\n",
    "plt.xlabel('Start station id', size = 12)\n",
    "plt.ylabel('Count of rides', size = 12)\n",
    "plt.title('Top 10 most popular start stations', size = 15); "
   ]
  },
  {
   "cell_type": "code",
   "execution_count": 28,
   "id": "a0ad9500",
   "metadata": {},
   "outputs": [
    {
     "data": {
      "text/plain": [
       "38     Market St at 10th St\n",
       "54     Market St at 10th St\n",
       "110    Market St at 10th St\n",
       "114    Market St at 10th St\n",
       "190    Market St at 10th St\n",
       "Name: start_station_name, dtype: object"
      ]
     },
     "execution_count": 28,
     "metadata": {},
     "output_type": "execute_result"
    }
   ],
   "source": [
    "# get the name of the most start popular station, number 1 on the list\n",
    "df_copy.loc[df_copy['start_station_id'] == '58.0', 'start_station_name'].head()"
   ]
  },
  {
   "cell_type": "markdown",
   "id": "aff83d73",
   "metadata": {},
   "source": [
    "The most popular start station for bike rides in San Francisco Bay Area is **Market St at 10th St** with station id 58."
   ]
  },
  {
   "cell_type": "code",
   "execution_count": 29,
   "id": "1594aa17",
   "metadata": {},
   "outputs": [
    {
     "data": {
      "text/plain": [
       "67.0    4857\n",
       "58.0    3973\n",
       "21.0    3647\n",
       "15.0    3368\n",
       "3.0     2997\n",
       "30.0    2947\n",
       "81.0    2872\n",
       "6.0     2512\n",
       "5.0     2353\n",
       "16.0    2338\n",
       "Name: end_station_id, dtype: int64"
      ]
     },
     "execution_count": 29,
     "metadata": {},
     "output_type": "execute_result"
    }
   ],
   "source": [
    "# get the top 10 stations with most end rides\n",
    "top_end = df_copy['end_station_id'].value_counts().nlargest(10)\n",
    "top_end"
   ]
  },
  {
   "cell_type": "code",
   "execution_count": 30,
   "id": "e1aa89c2",
   "metadata": {},
   "outputs": [
    {
     "data": {
      "image/png": "[encoded data removed]",
      "text/plain": [
       "<Figure size 576x432 with 1 Axes>"
      ]
     },
     "metadata": {
      "needs_background": "light"
     },
     "output_type": "display_data"
    }
   ],
   "source": [
    "plt.figure(figsize=(8,6))\n",
    "top_end.plot(kind = 'bar')\n",
    "plt.xlabel('End station id', size = 12)\n",
    "plt.ylabel('Count of rides', size = 12)\n",
    "plt.title('Top 10 most popular end stations', size = 15);"
   ]
  },
  {
   "cell_type": "code",
   "execution_count": 31,
   "id": "da60ece2",
   "metadata": {},
   "outputs": [
    {
     "data": {
      "text/plain": [
       "['San Francisco Caltrain Station 2  (Townsend St at 4th St)',\n",
       " 'San Francisco Caltrain Station 2  (Townsend St at 4th St)',\n",
       " 'San Francisco Caltrain Station 2  (Townsend St at 4th St)',\n",
       " 'San Francisco Caltrain Station 2  (Townsend St at 4th St)',\n",
       " 'San Francisco Caltrain Station 2  (Townsend St at 4th St)']"
      ]
     },
     "execution_count": 31,
     "metadata": {},
     "output_type": "execute_result"
    }
   ],
   "source": [
    "# get the name of the most end popular station, number 1 on the list\n",
    "list(df_copy.loc[df_copy['end_station_id'] == '67.0', 'end_station_name'].head())"
   ]
  },
  {
   "cell_type": "markdown",
   "id": "9df9f358",
   "metadata": {},
   "source": [
    "The most popular end station for bike rides in San Francisco Bay Area is **San Francisco Caltrain Station 2  (Townsend St at 4th St)** with station id 67."
   ]
  },
  {
   "cell_type": "markdown",
   "id": "f82a9a32",
   "metadata": {},
   "source": [
    "#### Do a lot of users user Ford GoBike for all their trips?"
   ]
  },
  {
   "cell_type": "code",
   "execution_count": 32,
   "id": "8cb9bab8",
   "metadata": {},
   "outputs": [
    {
     "data": {
      "text/plain": [
       "Yes     17359\n",
       "No     166053\n",
       "Name: bike_share_for_all_trip, dtype: int64"
      ]
     },
     "execution_count": 32,
     "metadata": {},
     "output_type": "execute_result"
    }
   ],
   "source": [
    "all_trip = df_copy['bike_share_for_all_trip'].value_counts().sort_values(ascending = True)\n",
    "all_trip"
   ]
  },
  {
   "cell_type": "code",
   "execution_count": 33,
   "id": "918d6ae8",
   "metadata": {},
   "outputs": [
    {
     "data": {
      "image/png": "[encoded data removed]",
      "text/plain": [
       "<Figure size 576x576 with 1 Axes>"
      ]
     },
     "metadata": {},
     "output_type": "display_data"
    }
   ],
   "source": [
    "plt.figure(figsize=(8,8))\n",
    "plt.pie(all_trip, labels = ['Yes', 'No'], startangle = 90);\n",
    "plt.legend(['Yes', 'No'])\n",
    "plt.title('Use Bike Share for all trips', size=15);"
   ]
  },
  {
   "cell_type": "markdown",
   "id": "aed6e083",
   "metadata": {},
   "source": [
    "Majority of the users **do not** use Ford GoBike for all their trips"
   ]
  },
  {
   "cell_type": "markdown",
   "id": "3f548747",
   "metadata": {},
   "source": [
    "#### What is the duration of most rides?"
   ]
  },
  {
   "cell_type": "code",
   "execution_count": 34,
   "id": "23c81453",
   "metadata": {},
   "outputs": [
    {
     "data": {
      "text/plain": [
       "count    183412.000000\n",
       "mean         12.101301\n",
       "std          29.906501\n",
       "min           1.020000\n",
       "25%           5.420000\n",
       "50%           8.570000\n",
       "75%          13.270000\n",
       "max        1424.070000\n",
       "Name: duration_min, dtype: float64"
      ]
     },
     "execution_count": 34,
     "metadata": {},
     "output_type": "execute_result"
    }
   ],
   "source": [
    "df_copy['duration_min'].describe()"
   ]
  },
  {
   "cell_type": "code",
   "execution_count": 35,
   "id": "46bc5221",
   "metadata": {},
   "outputs": [
    {
     "data": {
      "text/plain": [
       "count    5.263428\n",
       "mean     1.082832\n",
       "std      1.475766\n",
       "min      0.008600\n",
       "25%      0.733999\n",
       "50%      0.932981\n",
       "75%      1.122871\n",
       "max      3.153531\n",
       "Name: duration_min, dtype: float64"
      ]
     },
     "execution_count": 35,
     "metadata": {},
     "output_type": "execute_result"
    }
   ],
   "source": [
    "np.log10(df_copy['duration_min'].describe())"
   ]
  },
  {
   "cell_type": "code",
   "execution_count": 36,
   "id": "8fe7b555",
   "metadata": {},
   "outputs": [],
   "source": [
    "bins = 10 ** np.arange(0.008, np.log10(df_copy['duration_min'].max())+ 0.1, 0.1)"
   ]
  },
  {
   "cell_type": "code",
   "execution_count": 37,
   "id": "6bcf6752",
   "metadata": {
    "scrolled": false
   },
   "outputs": [
    {
     "data": {
      "image/png": "[encoded data removed]",
      "text/plain": [
       "<Figure size 576x432 with 1 Axes>"
      ]
     },
     "metadata": {
      "needs_background": "light"
     },
     "output_type": "display_data"
    }
   ],
   "source": [
    "plt.figure(figsize=(8,6))\n",
    "plt.hist(data = df_copy, x = 'duration_min', bins = bins)\n",
    "plt.xscale('log')\n",
    "plt.xlabel('duration')\n",
    "plt.title('duration of ride', size = 15)\n",
    "plt.show()"
   ]
  },
  {
   "cell_type": "markdown",
   "id": "4615d9ff",
   "metadata": {},
   "source": [
    "Most rides fall between 8 to 20 minutes."
   ]
  },
  {
   "cell_type": "markdown",
   "id": "cdcd4974",
   "metadata": {},
   "source": [
    "### Discuss the distribution(s) of your variable(s) of interest. Were there any unusual points? Did you need to perform any transformations?\n",
    "\n",
    "> The duration (converted to minutes) variable in the dataset was highly skewed with many rides duration under 100 mins and the range was between 1 min and 1425 mins. I used log scale to plot the chart for duration since most of the rides were under 100 minutes. \n",
    "Also, I extracted the hour and day from the start time into seperate columns to help me determine what the peak hours and days are.\n",
    "\n",
    "### Of the features you investigated, were there any unusual distributions? Did you perform any operations on the data to tidy, adjust, or change the form of the data? If so, why did you do this?\n",
    "\n",
    "> I performed some adjustments to the dataset. I changed the datatype for some columns, dropped some columns that was not going to be needed and created new columns with the data in already existing columns. I changed the start_time and end_time columns to a datatime datatype because I need to extract the day and hour to help with my analysis.  "
   ]
  },
  {
   "cell_type": "markdown",
   "id": "ae376ed2",
   "metadata": {},
   "source": [
    "## Bivariate Exploration\n",
    ">In this section, investigate relationships between pairs of variables in your data. Make sure the variables that you cover here have been introduced in some fashion in the previous section (univariate exploration)."
   ]
  },
  {
   "cell_type": "markdown",
   "id": "dcc84f4f",
   "metadata": {},
   "source": [
    "#### At what times and days are most trips taken?"
   ]
  },
  {
   "cell_type": "code",
   "execution_count": 38,
   "id": "89f7e644",
   "metadata": {
    "scrolled": true
   },
   "outputs": [
    {
     "data": {
      "image/png": "[encoded data removed]",
      "text/plain": [
       "<Figure size 864x432 with 2 Axes>"
      ]
     },
     "metadata": {
      "needs_background": "light"
     },
     "output_type": "display_data"
    }
   ],
   "source": [
    "plt.figure(figsize = (12,6))\n",
    "plt.hist2d(data = df_copy, x = 'start_time_day', y = 'start_hour')\n",
    "plt.xlabel('Start hour')\n",
    "plt.ylabel('Day of starting trip')\n",
    "plt.colorbar();"
   ]
  },
  {
   "cell_type": "markdown",
   "id": "3b53ca38",
   "metadata": {},
   "source": [
    "A lot of trips are taken on Tuesdays, Wednesdays and Thursdays between the hours of **7am - 9am** and also **4pm - 6pm**."
   ]
  },
  {
   "cell_type": "markdown",
   "id": "198d6811",
   "metadata": {},
   "source": [
    "#### day of the week vrs user_type"
   ]
  },
  {
   "cell_type": "code",
   "execution_count": 39,
   "id": "12b104f1",
   "metadata": {},
   "outputs": [
    {
     "data": {
      "image/png": "[encoded data removed]",
      "text/plain": [
       "<Figure size 720x576 with 1 Axes>"
      ]
     },
     "metadata": {
      "needs_background": "light"
     },
     "output_type": "display_data"
    }
   ],
   "source": [
    "plt.figure(figsize=(10,8))\n",
    "\n",
    "sb.countplot(data = df_copy, x = 'start_time_day', hue = 'user_type')\n",
    "plt.title('Number of Rides by Weekday', size = 15)\n",
    "plt.xticks([0,1,2,3,4,5,6], labels)\n",
    "plt.xlabel('Days of the Week', size = 12)\n",
    "plt.ylabel('No. of Rides', size = 12);"
   ]
  },
  {
   "cell_type": "markdown",
   "id": "a7eac2ff",
   "metadata": {},
   "source": [
    "On a daily basis more subscribers take more trips than customers and especially on Thursdays."
   ]
  },
  {
   "cell_type": "markdown",
   "id": "3d6817d1",
   "metadata": {},
   "source": [
    "#### Does user type determine the duration of a ride?"
   ]
  },
  {
   "cell_type": "code",
   "execution_count": 40,
   "id": "a18ab068",
   "metadata": {
    "scrolled": true
   },
   "outputs": [
    {
     "data": {
      "text/plain": [
       "<AxesSubplot:xlabel='duration_min', ylabel='user_type'>"
      ]
     },
     "execution_count": 40,
     "metadata": {},
     "output_type": "execute_result"
    },
    {
     "data": {
      "image/png": "[encoded data removed]",
      "text/plain": [
       "<Figure size 720x720 with 1 Axes>"
      ]
     },
     "metadata": {
      "needs_background": "light"
     },
     "output_type": "display_data"
    }
   ],
   "source": [
    "#create a violin plot using the duration in minutes and the user type\n",
    "plt.figure(figsize=(10,10))\n",
    "sb.violinplot(data=df_copy, x='duration_min', y='user_type' )"
   ]
  },
  {
   "cell_type": "markdown",
   "id": "6795434d",
   "metadata": {},
   "source": [
    "It appears that more **customers** have a ride duration less than 100 minutes and more **subscribers** have rides greater than 100 minutes"
   ]
  },
  {
   "cell_type": "code",
   "execution_count": 41,
   "id": "79a3d0c6",
   "metadata": {},
   "outputs": [],
   "source": [
    "# query the dataset for rides that have a duration lower than 100 minutes\n",
    "less_100= df_copy.query('duration_min < 100')"
   ]
  },
  {
   "cell_type": "code",
   "execution_count": 42,
   "id": "f49b04dc",
   "metadata": {
    "scrolled": true
   },
   "outputs": [
    {
     "data": {
      "image/png": "[encoded data removed]",
      "text/plain": [
       "<Figure size 576x576 with 1 Axes>"
      ]
     },
     "metadata": {
      "needs_background": "light"
     },
     "output_type": "display_data"
    }
   ],
   "source": [
    "plt.figure(figsize=(8,8))\n",
    "sb.violinplot(data=less_100, y='duration_min', x='user_type' );\n",
    "plt.title('User type vrs Duration', size =15);"
   ]
  },
  {
   "cell_type": "markdown",
   "id": "fa29b43c",
   "metadata": {},
   "source": [
    "There are more subscribers with a ride duration less than 20 minutes."
   ]
  },
  {
   "cell_type": "markdown",
   "id": "892cef83",
   "metadata": {},
   "source": [
    "####  What gender rides for the longest?\n"
   ]
  },
  {
   "cell_type": "code",
   "execution_count": 43,
   "id": "0cc2a4b4",
   "metadata": {},
   "outputs": [
    {
     "data": {
      "image/png": "[encoded data removed]",
      "text/plain": [
       "<Figure size 720x576 with 1 Axes>"
      ]
     },
     "metadata": {
      "needs_background": "light"
     },
     "output_type": "display_data"
    }
   ],
   "source": [
    "plt.figure(figsize = (10,8))\n",
    "\n",
    "by_gender = df_copy.query('duration_min < 100')\n",
    "by_gender.query('member_gender == \"Male\"').duration_min.hist(bins=15, label='Male')\n",
    "by_gender.query('member_gender == \"Female\"').duration_min.hist(bins=15, label='Female')\n",
    "by_gender.query('member_gender == \"Other\"').duration_min.hist(bins=15, label='Other')\n",
    "plt.title('Ride Duration(min) Based on Gender', size = 20)\n",
    "plt.xlabel('Duration')\n",
    "plt.ylabel('Number of trips')\n",
    "plt.grid(False);\n",
    "plt.legend();"
   ]
  },
  {
   "cell_type": "markdown",
   "id": "ccf5cf59",
   "metadata": {},
   "source": [
    "There are more male riders than any other gender."
   ]
  },
  {
   "cell_type": "markdown",
   "id": "4fc46564",
   "metadata": {},
   "source": [
    "#### What is the distribution of member's gender and user type?"
   ]
  },
  {
   "cell_type": "code",
   "execution_count": 44,
   "id": "ec43b096",
   "metadata": {},
   "outputs": [
    {
     "data": {
      "image/png": "[encoded data removed]",
      "text/plain": [
       "<Figure size 720x576 with 1 Axes>"
      ]
     },
     "metadata": {
      "needs_background": "light"
     },
     "output_type": "display_data"
    }
   ],
   "source": [
    "#create a violin plot using the duration in minutes and the user type\n",
    "plt.figure(figsize=(10,8))\n",
    "sb.countplot(data=df_copy, x='member_gender', hue='user_type')\n",
    "plt.xlabel('gender', size = 12)\n",
    "plt.ylabel('count of rides', size = 12);"
   ]
  },
  {
   "cell_type": "markdown",
   "id": "bb812c70",
   "metadata": {},
   "source": [
    "The highest number of users are **male subscribers** followed by **female subscribers**. Also for all gender types there's a lower count of customer rides"
   ]
  },
  {
   "cell_type": "markdown",
   "id": "471a47b8",
   "metadata": {},
   "source": [
    "#### bikes used for the longest trip duration"
   ]
  },
  {
   "cell_type": "code",
   "execution_count": 45,
   "id": "89b0dcc9",
   "metadata": {},
   "outputs": [
    {
     "data": {
      "text/plain": [
       "bike_id\n",
       "5481    3626.88\n",
       "5282    3399.57\n",
       "5561    3151.64\n",
       "4964    3058.93\n",
       "5373    3001.83\n",
       "4714    2891.79\n",
       "4728    2813.86\n",
       "4637    2767.34\n",
       "5048    2662.94\n",
       "6235    2661.98\n",
       "Name: duration_min, dtype: float64"
      ]
     },
     "execution_count": 45,
     "metadata": {},
     "output_type": "execute_result"
    }
   ],
   "source": [
    "# checking for the bikes with highest total duration in minutes \n",
    "ride_dur = df_copy.groupby(['bike_id']).sum()['duration_min'].nlargest(10)\n",
    "ride_dur"
   ]
  },
  {
   "cell_type": "code",
   "execution_count": 46,
   "id": "eff8b3b4",
   "metadata": {},
   "outputs": [
    {
     "data": {
      "image/png": "[encoded data removed]",
      "text/plain": [
       "<Figure size 576x432 with 1 Axes>"
      ]
     },
     "metadata": {
      "needs_background": "light"
     },
     "output_type": "display_data"
    }
   ],
   "source": [
    "plt.figure(figsize=(8,6))\n",
    "ride_dur.plot(kind = 'bar')\n",
    "plt.xlabel('Bike ID', size = 12)\n",
    "plt.ylabel('Total ride duration(min)', size = 12)\n",
    "plt.title('Top 10 bike with highest ride duration', size = 15);"
   ]
  },
  {
   "cell_type": "markdown",
   "id": "22a46139",
   "metadata": {},
   "source": [
    "The chart above could help determine help determine which bikes needs routine maintenance. Also, the qualities of the bike that makes it able to be used for long rides."
   ]
  },
  {
   "cell_type": "markdown",
   "id": "6bc0d55f",
   "metadata": {},
   "source": [
    "### Talk about some of the relationships you observed in this part of the investigation. How did the feature(s) of interest vary with other features in the dataset?\n",
    "\n",
    "> By comparing the start hour and day, a users use take rides early mornings and late afternoons on Mondays, Wednesdays and Thursdays.\n",
    "More subscribers take more trips than regular customers.\n",
    "Most user types use the bikes for short trips most especially subscribers, and also most long trips are taken by subscribers as well.\n",
    "\n",
    "### Did you observe any interesting relationships between the other features (not the main feature(s) of interest)?\n",
    "\n",
    "> There's a vast difference between male and female riders, way too many male riders. But it's not so surprising male riders take the longest trips."
   ]
  },
  {
   "cell_type": "markdown",
   "id": "f9a80175",
   "metadata": {},
   "source": [
    "## Multivariate Exploration\n",
    "> Create plots of three or more variables to investigate your data even further. Make sure that your investigations are justified, and follow from your work in the previous sections."
   ]
  },
  {
   "cell_type": "markdown",
   "id": "838f7477",
   "metadata": {},
   "source": [
    "#### Average Ride Duration of Gender per User Type"
   ]
  },
  {
   "cell_type": "code",
   "execution_count": 47,
   "id": "8cf8d279",
   "metadata": {
    "scrolled": true
   },
   "outputs": [
    {
     "data": {
      "image/png": "[encoded data removed]",
      "text/plain": [
       "<Figure size 720x576 with 1 Axes>"
      ]
     },
     "metadata": {
      "needs_background": "light"
     },
     "output_type": "display_data"
    }
   ],
   "source": [
    "plt.figure(figsize = (10,8))\n",
    "order = ['male', 'female', 'other']\n",
    "sb.barplot(data = df_copy, x = 'member_gender', y = 'duration_min', hue = 'user_type', errwidth = 0)\n",
    "plt.xlabel('Gender', size=12)\n",
    "plt.ylabel('Avg duration in min', size=12)\n",
    "plt.title('Average Ride Duration of Gender per User Type', size = 15);"
   ]
  },
  {
   "cell_type": "markdown",
   "id": "127e3ba5",
   "metadata": {},
   "source": [
    "Gender classified as **Other** and are **customers** have the highest count of rides the fall under the average ride duration(min) which is about 35mins"
   ]
  },
  {
   "cell_type": "code",
   "execution_count": 48,
   "id": "6cf3937d",
   "metadata": {},
   "outputs": [],
   "source": [
    "# save a copy of the cleaned dataset\n",
    "df_copy.to_csv('bike_copy.csv')"
   ]
  },
  {
   "cell_type": "markdown",
   "id": "38176066",
   "metadata": {},
   "source": [
    "### Talk about some of the relationships you observed in this part of the investigation. Were there features that strengthened each other in terms of looking at your feature(s) of interest?\n",
    "\n",
    "> My multivariate analysis supported by bivariate analysis in the previous section. In this section more female than male riders that are customers take shorter trips. More customers take shorter trips probably that is the reason they do not have a subscription.\n",
    "\n",
    "### Were there any interesting or surprising interactions between features?\n",
    "\n",
    "> Other gender takes the most short trips. In the previous section, most trips were taken by subscribers and were spread across from lowest to highest duration. "
   ]
  },
  {
   "cell_type": "markdown",
   "id": "91642221",
   "metadata": {},
   "source": [
    "## Conclusions"
   ]
  },
  {
   "cell_type": "markdown",
   "id": "ac70de23",
   "metadata": {},
   "source": [
    "> The average duration of a trip is about 30 mins. Most trips are taken on Tuesdays, Wednesdays and Thursdays early mornings and late afternoons. Subscribers take more rides than customers. The most popular start station at San Francisco Bay area is Market St at 10th St."
   ]
  }
 ],
 "metadata": {
  "kernelspec": {
   "display_name": "Python 3 (ipykernel)",
   "language": "python",
   "name": "python3"
  },
  "language_info": {
   "codemirror_mode": {
    "name": "ipython",
    "version": 3
   },
   "file_extension": ".py",
   "mimetype": "text/x-python",
   "name": "python",
   "nbconvert_exporter": "python",
   "pygments_lexer": "ipython3",
   "version": "3.9.12"
  }
 },
 "nbformat": 4,
 "nbformat_minor": 5
}
